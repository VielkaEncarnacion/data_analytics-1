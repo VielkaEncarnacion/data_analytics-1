{
  "nbformat": 4,
  "nbformat_minor": 0,
  "metadata": {
    "colab": {
      "name": "Practice In-class1.ipynb",
      "provenance": [],
      "authorship_tag": "ABX9TyPbqP8GdGPhWnr/L6yhWtrp",
      "include_colab_link": true
    },
    "kernelspec": {
      "name": "python3",
      "display_name": "Python 3"
    }
  },
  "cells": [
    {
      "cell_type": "markdown",
      "metadata": {
        "id": "view-in-github",
        "colab_type": "text"
      },
      "source": [
        "<a href=\"https://colab.research.google.com/github/VielkaEncarnacion/data_analytics-1/blob/main/Practice_In_class1.ipynb\" target=\"_parent\"><img src=\"https://colab.research.google.com/assets/colab-badge.svg\" alt=\"Open In Colab\"/></a>"
      ]
    },
    {
      "cell_type": "code",
      "metadata": {
        "colab": {
          "base_uri": "https://localhost:8080/"
        },
        "id": "MePfLD36H3Ap",
        "outputId": "e2bb4f58-6429-43cf-d84d-45faa7c87007"
      },
      "source": [
        "'Hello World'\n",
        "print('Hello World!')"
      ],
      "execution_count": 4,
      "outputs": [
        {
          "output_type": "stream",
          "text": [
            "Hello World!\n"
          ],
          "name": "stdout"
        }
      ]
    },
    {
      "cell_type": "code",
      "metadata": {
        "colab": {
          "base_uri": "https://localhost:8080/"
        },
        "id": "qI3-4t1EJ6aF",
        "outputId": "cbc2c365-74da-403c-d408-9b63faf472fc"
      },
      "source": [
        "variableA = 'Hello World'\n",
        "print(variableA)"
      ],
      "execution_count": 5,
      "outputs": [
        {
          "output_type": "stream",
          "text": [
            "Hello World\n"
          ],
          "name": "stdout"
        }
      ]
    },
    {
      "cell_type": "code",
      "metadata": {
        "colab": {
          "base_uri": "https://localhost:8080/"
        },
        "id": "GXSWqCwoMI3X",
        "outputId": "60e68d7f-c665-44b2-af7f-196c900ec5c7"
      },
      "source": [
        "Night_Message = 'Good Night!'\n",
        "print(Night_Message)"
      ],
      "execution_count": 7,
      "outputs": [
        {
          "output_type": "stream",
          "text": [
            "Good Night!\n"
          ],
          "name": "stdout"
        }
      ]
    },
    {
      "cell_type": "code",
      "metadata": {
        "colab": {
          "base_uri": "https://localhost:8080/"
        },
        "id": "TCCfi5_xOPgk",
        "outputId": "6701db43-239f-43f6-bff4-05e04cdf0e1d"
      },
      "source": [
        "school = 'cuny laguardia'\n",
        "print(school.upper())\n",
        "print(school.lower())"
      ],
      "execution_count": 8,
      "outputs": [
        {
          "output_type": "stream",
          "text": [
            "CUNY LAGUARDIA\n",
            "cuny laguardia\n"
          ],
          "name": "stdout"
        }
      ]
    },
    {
      "cell_type": "code",
      "metadata": {
        "colab": {
          "base_uri": "https://localhost:8080/"
        },
        "id": "bp-teklVPgfS",
        "outputId": "0021a04a-eb99-4cab-e121-3102f0517f23"
      },
      "source": [
        "firstname = 'Mary'\n",
        "lastname = 'Smith'\n",
        "numberX = '1'\n",
        "PersonName = firstname + \" \" + lastname + ' ' + numberX\n",
        "print(PersonName)\n",
        "\n",
        "print('Mary')\n",
        "#Add white line\n",
        "print('\\tSmith')\n",
        "#Add New Line\n",
        "print('\\nSmith')"
      ],
      "execution_count": 25,
      "outputs": [
        {
          "output_type": "stream",
          "text": [
            "Mary Smith 1\n",
            "Mary\n",
            "\tSmith\n",
            "\n",
            "Smith\n"
          ],
          "name": "stdout"
        }
      ]
    },
    {
      "cell_type": "code",
      "metadata": {
        "colab": {
          "base_uri": "https://localhost:8080/",
          "height": 71
        },
        "id": "rMIN5g2nQ8tb",
        "outputId": "e6cbc3b2-21af-4fd5-f974-baef5416fb46"
      },
      "source": [
        "Individual_Name = \"Mary Smith       M.D\"\n",
        "print(Individual_Name)\n",
        "print(Individual_Name.rstrip())\n",
        "Individual_Name.lstrip()"
      ],
      "execution_count": 57,
      "outputs": [
        {
          "output_type": "stream",
          "text": [
            "Mary Smith    M.D\n",
            "Mary Smith    M.D\n"
          ],
          "name": "stdout"
        },
        {
          "output_type": "execute_result",
          "data": {
            "application/vnd.google.colaboratory.intrinsic+json": {
              "type": "string"
            },
            "text/plain": [
              "'Mary Smith    M.D'"
            ]
          },
          "metadata": {
            "tags": []
          },
          "execution_count": 57
        }
      ]
    },
    {
      "cell_type": "code",
      "metadata": {
        "colab": {
          "base_uri": "https://localhost:8080/"
        },
        "id": "b7R_dELcT3C-",
        "outputId": "e153ca7f-8525-472d-d009-64b4e55d9576"
      },
      "source": [
        "Name = 'Tom,'\n",
        "print('Tom,')\n",
        "Greeting_message = \"Hello\" + \" \" + Name + \" What are you doing after class?\"\n",
        "print(Greeting_message)"
      ],
      "execution_count": 54,
      "outputs": [
        {
          "output_type": "stream",
          "text": [
            "Tom,\n",
            "Hello Tom, What are you doing after class?\n"
          ],
          "name": "stdout"
        }
      ]
    },
    {
      "cell_type": "code",
      "metadata": {
        "colab": {
          "base_uri": "https://localhost:8080/"
        },
        "id": "kxXlaE6ZUlc-",
        "outputId": "3e945028-7367-497c-a080-0c068840d46e"
      },
      "source": [
        "Name = 'Diego'\n",
        "print(Name.upper())\n",
        "print(Name.lower())\n",
        "print('\\tDiego')\n",
        "print('\\tDiego'.lstrip())"
      ],
      "execution_count": 56,
      "outputs": [
        {
          "output_type": "stream",
          "text": [
            "DIEGO\n",
            "diego\n",
            "\tDiego\n",
            "Diego\n"
          ],
          "name": "stdout"
        }
      ]
    },
    {
      "cell_type": "code",
      "metadata": {
        "colab": {
          "base_uri": "https://localhost:8080/"
        },
        "id": "FxjwC2x1YfZP",
        "outputId": "1000b877-7ac0-478d-8f51-fea4fc3951e2"
      },
      "source": [
        "age = '23'\n",
        "message = 'Happy' + \" \" + str(age) + \"rd Birthday!\"\n",
        "print(message)"
      ],
      "execution_count": 64,
      "outputs": [
        {
          "output_type": "stream",
          "text": [
            "Happy 23rd Birthday!\n"
          ],
          "name": "stdout"
        }
      ]
    }
  ]
}